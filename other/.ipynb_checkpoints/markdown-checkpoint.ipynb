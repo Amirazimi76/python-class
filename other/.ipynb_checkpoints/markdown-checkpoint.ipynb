{
 "cells": [
  {
   "cell_type": "markdown",
   "id": "f9189542-e957-433e-90dd-2e0048fbd71e",
   "metadata": {},
   "source": [
    "# markdown "
   ]
  },
  {
   "cell_type": "markdown",
   "id": "87e1f612-4a07-437a-b1f5-83c0c6871454",
   "metadata": {},
   "source": [
    "* [introduction](#introduction)\n",
    "* [heading](#heading)\n",
    "* [bold and italic](#bold-and-italic)\n",
    "* [list](#list)\n",
    "* [link](#link)\n",
    "* [add images](#add-images)"
   ]
  },
  {
   "cell_type": "markdown",
   "id": "284bf614-f61a-4c35-9663-7e4fd636685d",
   "metadata": {},
   "source": [
    "## introduction\n",
    "Markdown is a lightweight, easy to learn markup language for formatting plain text. Its syntax has a one-to-one correspondence with HTML tags, so some prior knowledge here would be helpful but is definitely not a prerequisite."
   ]
  },
  {
   "cell_type": "markdown",
   "id": "df3a0f15-6fbb-4f56-a2dc-7c8f0ea3ba0b",
   "metadata": {},
   "source": [
    "\n",
    "# heading\n",
    "( **try examples in markdown cell and run the cell(press ctrl and enter) and see results** ) <br>\n",
    "you can write heading with # <br>\n",
    "**notice that dont forget space after #** "
   ]
  },
  {
   "cell_type": "raw",
   "id": "82ae7c7f-658b-426b-943f-da5faafe2511",
   "metadata": {},
   "source": [
    "(this is raw cell)\n",
    "example : \n",
    "    # this is level 1 heading\n",
    "    ## this is level 2 heading\n",
    "   "
   ]
  },
  {
   "cell_type": "markdown",
   "id": "9a5b90f7-0120-4741-9c7e-9b9784e57584",
   "metadata": {},
   "source": [
    "(this is markdown cell) <br>\n",
    "example : \n",
    "  # this is level 1 heading\n",
    "  ## this is level 2 heading"
   ]
  },
  {
   "cell_type": "markdown",
   "id": "1bc766ff-3f50-4c6c-81c8-b20e1a2179e0",
   "metadata": {},
   "source": [
    "## bold and italic"
   ]
  },
  {
   "cell_type": "raw",
   "id": "f01ce80a-0071-45a1-b2c9-381eb2b2cf2b",
   "metadata": {},
   "source": [
    "(this is raw cell)\n",
    "This is some plain text that forms a paragraph. Add emphasis via **bold** and __bold__, or *italic* and _italic_. \n",
    "\n",
    "Paragraphs must be separated by an empty line."
   ]
  },
  {
   "cell_type": "markdown",
   "id": "546b0e49-d83c-4595-85e3-52e4203cc1b2",
   "metadata": {},
   "source": [
    "(this is markdown cell) <br>\n",
    "This is some plain text that forms a paragraph. Add emphasis via **bold** and __bold__, or *italic* and _italic_. \n",
    "\n",
    "Paragraphs must be separated by an empty line."
   ]
  },
  {
   "cell_type": "markdown",
   "id": "e47487dd-2d8a-4442-86c9-fdb25e7e5f5f",
   "metadata": {},
   "source": [
    "## list"
   ]
  },
  {
   "cell_type": "raw",
   "id": "2e2b8e36-59fc-4084-ab40-3f748d64b597",
   "metadata": {},
   "source": [
    "(this is raw cell)\n",
    "* Sometimes we want to include lists. \n",
    "* Which can be bulleted using *."
   ]
  },
  {
   "cell_type": "markdown",
   "id": "fcefd5c5-6230-450d-8b20-2fb6110bae31",
   "metadata": {},
   "source": [
    "(this is markdown cell) <br>\n",
    "* Sometimes we want to include lists. \n",
    "* Which can be bulleted using *."
   ]
  },
  {
   "cell_type": "raw",
   "id": "10dd0aef-7eaa-4a48-9150-99a268492ae0",
   "metadata": {},
   "source": [
    "(this is raw cell)\n",
    "1. Lists can also be numbered. \n",
    "2. If we want an ordered list."
   ]
  },
  {
   "cell_type": "markdown",
   "id": "35672a70-96bf-498f-8d42-2a653dbe79ae",
   "metadata": {},
   "source": [
    "(this is markdown cell)<br>\n",
    "1. Lists can also be numbered. \n",
    "2. If we want an ordered list."
   ]
  },
  {
   "cell_type": "markdown",
   "id": "9d161692-ff8b-455e-9034-04dce58888b0",
   "metadata": {},
   "source": [
    "## link"
   ]
  },
  {
   "cell_type": "raw",
   "id": "18c3a6fc-af46-4074-a075-c7c7be1d273a",
   "metadata": {},
   "source": [
    "(this is raw cell)\n",
    "[It is possible to include hyperlinks](https://www.example.com)"
   ]
  },
  {
   "cell_type": "markdown",
   "id": "8f2c80f6-80a2-443b-b901-59442dafac6c",
   "metadata": {},
   "source": [
    "(this is markdown cell)<br>\n",
    "[It is possible to include hyperlinks](https://www.example.com)"
   ]
  },
  {
   "cell_type": "markdown",
   "id": "439c47df-e355-4198-bc6e-478cbc908cc8",
   "metadata": {},
   "source": [
    "## inline code"
   ]
  },
  {
   "cell_type": "raw",
   "id": "9fee560a-914e-4810-a25f-1850a4f4f0dd",
   "metadata": {},
   "source": [
    "(this is raw cell)\n",
    "Inline code uses single backticks: foo(), and code blocks use triple backticks: \n",
    "```\n",
    "bar()\n",
    "``` "
   ]
  },
  {
   "cell_type": "markdown",
   "id": "4db5e091-45fc-4038-8ebd-9cb87295e0f0",
   "metadata": {},
   "source": [
    "(this is markdown cell) <br>\n",
    "Inline code uses single backticks: foo(), and code blocks use triple backticks: \n",
    "```\n",
    "bar()\n",
    "``` "
   ]
  },
  {
   "cell_type": "markdown",
   "id": "a24982ff-d228-4f25-bad5-e1806dbfb99d",
   "metadata": {},
   "source": [
    "## add images"
   ]
  },
  {
   "cell_type": "markdown",
   "id": "ab29acb2-31d3-4a72-83e6-2b1a75a62ffa",
   "metadata": {},
   "source": [
    "there is 2 ways to add images to your notebook \n",
    "1. drag and drap image in markdown cell \n",
    "**notice that it must be markdown cell**"
   ]
  },
  {
   "cell_type": "raw",
   "id": "3caee9c2-d172-4af5-a4be-21a34186be52",
   "metadata": {},
   "source": [
    "(this is raw cell)\n",
    "2. use this format : \n",
    "    ![Alt text](https://www.example.com/image.jpg)\n",
    "    if the image doesent exists it shows alt text you defined"
   ]
  },
  {
   "cell_type": "markdown",
   "id": "ec578db4-c974-49d7-bcc9-f9bd70e3bda5",
   "metadata": {},
   "source": [
    "(this is markdown cell)<br>![Alt text](https://www.example.com/image.jpg)"
   ]
  }
 ],
 "metadata": {
  "kernelspec": {
   "display_name": "Python 3 (ipykernel)",
   "language": "python",
   "name": "python3"
  },
  "language_info": {
   "codemirror_mode": {
    "name": "ipython",
    "version": 3
   },
   "file_extension": ".py",
   "mimetype": "text/x-python",
   "name": "python",
   "nbconvert_exporter": "python",
   "pygments_lexer": "ipython3",
   "version": "3.9.12"
  }
 },
 "nbformat": 4,
 "nbformat_minor": 5
}
