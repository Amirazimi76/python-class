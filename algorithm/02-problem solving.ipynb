{
 "cells": [
  {
   "cell_type": "markdown",
   "id": "95372500-a41d-4a4c-adba-cbf3a685a149",
   "metadata": {},
   "source": [
    "# problem solving "
   ]
  },
  {
   "cell_type": "markdown",
   "id": "04b285ae-63e4-48e2-bbab-62be91755200",
   "metadata": {},
   "source": [
    "For programmers, we can define **problem solving** as writing an original\n",
    "program that performs a particular set of tasks and meets all stated constraints."
   ]
  },
  {
   "cell_type": "markdown",
   "id": "4fdc1e9e-3f77-4ddb-bde5-a9e36f4fd8a5",
   "metadata": {},
   "source": [
    "<hr>"
   ]
  },
  {
   "cell_type": "markdown",
   "id": "7eff067a-5aac-451f-8d4e-7863b529b283",
   "metadata": {},
   "source": [
    "## General Problem-Solving Techniques"
   ]
  },
  {
   "cell_type": "markdown",
   "id": "a99f3d11-a07b-44c7-88f8-eb6aa4906a2f",
   "metadata": {},
   "source": [
    "* ### Always Have a Plan"
   ]
  },
  {
   "cell_type": "markdown",
   "id": "f0f7dbb7-1190-4500-9548-704420121ab0",
   "metadata": {},
   "source": [
    "this is the most omprtant rule in problem solving. To be fair, the plan may require alteration somewhere along the journey, or you may have to abandon your original plan and concoct another."
   ]
  },
  {
   "cell_type": "markdown",
   "id": "37bb38ab-c459-458b-a2a0-ae6fd64ee716",
   "metadata": {},
   "source": [
    "Planning also allows you to set intermediate goals and achieve them. **Without a plan, you have only one goal: solve the whole problem.**"
   ]
  },
  {
   "cell_type": "markdown",
   "id": "da4b523c-49d8-4698-9481-de4a2fe63ed6",
   "metadata": {},
   "source": [
    "* ### Restate the Problem"
   ]
  },
  {
   "cell_type": "markdown",
   "id": "b2e30b59-1c4f-4770-a7ac-1b08421bdb77",
   "metadata": {},
   "source": [
    "As demonstrated especially by the fox, goose, and corn problem, restating a\n",
    "problem can produce valuable results."
   ]
  },
  {
   "cell_type": "markdown",
   "id": "1213145f-bccb-4e62-87ad-6b94a31246e7",
   "metadata": {},
   "source": [
    "Restatement can be a powerful technique, but many programmers will skip it because it doesn’t directly involve writing code or even designing a solution. This is another reason why having a plan is essential. Without a plan, your only goal is to have working code, and restatement is taking time away from writing code.\n",
    "\n",
    "**With a plan, you can put “formally restate the problem” as your first step**;\n",
    "therefore, completing the restatement officially counts as progress.\n",
    "**Even if a restatement doesn’t lead to any immediate insight**, it can help\n",
    "in other ways. For example, if a problem has been assigned to you , you can take your restatement to the person\n",
    "who assigned the problem and confirm your understanding. Also, restating\n",
    "the problem may be a necessary prerequisite step to using other common\n",
    "techniques, like reducing or dividing the problem.\n",
    "More broadly, restatement can transform whole problem areas. The\n",
    "technique I employ for recursive solutions, which I share in a later chapter, is\n",
    "a method to restate recursive problems so that I can treat them the same as\n",
    "iterative problems."
   ]
  },
  {
   "cell_type": "markdown",
   "id": "76878cbf-046b-450f-810c-6523560d8d79",
   "metadata": {},
   "source": [
    "* ### Divide the Problem"
   ]
  }
 ],
 "metadata": {
  "kernelspec": {
   "display_name": "Python 3 (ipykernel)",
   "language": "python",
   "name": "python3"
  },
  "language_info": {
   "codemirror_mode": {
    "name": "ipython",
    "version": 3
   },
   "file_extension": ".py",
   "mimetype": "text/x-python",
   "name": "python",
   "nbconvert_exporter": "python",
   "pygments_lexer": "ipython3",
   "version": "3.9.12"
  }
 },
 "nbformat": 4,
 "nbformat_minor": 5
}
