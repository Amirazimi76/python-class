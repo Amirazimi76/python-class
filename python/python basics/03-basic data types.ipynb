{
 "cells": [
  {
   "cell_type": "markdown",
   "id": "e6cf4263-8409-4fdf-9adc-49c8509d700e",
   "metadata": {},
   "source": [
    "# data types"
   ]
  },
  {
   "cell_type": "markdown",
   "id": "f01524a7-eeab-410c-a1c2-083253abebc9",
   "metadata": {},
   "source": [
    "* [type](#type)\n",
    "* [type() function](#type()-function)\n",
    "* [python numbers](#python-numbers)\n",
    "    * [integer](#integers)\n",
    "    * [float](#float)\n",
    "    * [complex](#complex)"
   ]
  },
  {
   "cell_type": "markdown",
   "id": "5530f046-460f-4bd9-a38c-291ba9a0686d",
   "metadata": {},
   "source": [
    "## type"
   ]
  },
  {
   "cell_type": "markdown",
   "id": "095b52e4-f67d-4b95-b186-b08518d8481f",
   "metadata": {},
   "source": [
    "some python basic build-in data types : \n",
    "* Int : An integer type that represents an integer.\n",
    "*  float : A float numeric type that contains a decimal number.\n",
    "*  str : String or str, which is a sequence of characters (such as letters and digits).\n",
    "Strings are specified by a number of characters between two \" or ' symbols.\n",
    "*  bool : The bool type takes both True value and False value.\n",
    "* **and so many other datatypes we will discuss later** "
   ]
  },
  {
   "cell_type": "markdown",
   "id": "28d3200c-57df-413a-b57c-aab6fc749492",
   "metadata": {},
   "source": [
    "## type() function\n",
    "type(x) function returns the type of variable ‘x’"
   ]
  },
  {
   "cell_type": "code",
   "execution_count": 18,
   "id": "b88c77da-9586-4c0d-a3e9-f3dacae53396",
   "metadata": {},
   "outputs": [
    {
     "name": "stdout",
     "output_type": "stream",
     "text": [
      "<class 'int'>\n",
      "<class 'float'>\n",
      "<class 'str'>\n",
      "<class 'bool'>\n",
      "<class 'method'>\n"
     ]
    }
   ],
   "source": [
    "i = 12\n",
    "f = 12.523\n",
    "s = 'It is a String'\n",
    "b = True\n",
    "x = input\n",
    "#---------------------\n",
    "print(type(i))\n",
    "print(type(f))\n",
    "print(type(s))\n",
    "print(type(b))\n",
    "print(type(x))"
   ]
  },
  {
   "cell_type": "markdown",
   "id": "cadaea98-9680-4125-aa4c-8d6e3b015305",
   "metadata": {},
   "source": [
    "## python numbers"
   ]
  },
  {
   "cell_type": "markdown",
   "id": "9ef777c9-5bf1-49d5-b67e-dff5edd57247",
   "metadata": {},
   "source": [
    "There are three numeric types in Python:\n",
    "* int\n",
    "* float\n",
    "* complex"
   ]
  },
  {
   "cell_type": "code",
   "execution_count": null,
   "id": "7c3cc92c-8bc7-4654-acd4-ab81c0b16522",
   "metadata": {},
   "outputs": [],
   "source": []
  }
 ],
 "metadata": {
  "kernelspec": {
   "display_name": "Python 3 (ipykernel)",
   "language": "python",
   "name": "python3"
  },
  "language_info": {
   "codemirror_mode": {
    "name": "ipython",
    "version": 3
   },
   "file_extension": ".py",
   "mimetype": "text/x-python",
   "name": "python",
   "nbconvert_exporter": "python",
   "pygments_lexer": "ipython3",
   "version": "3.9.12"
  }
 },
 "nbformat": 4,
 "nbformat_minor": 5
}
